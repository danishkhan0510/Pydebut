{
  "nbformat": 4,
  "nbformat_minor": 0,
  "metadata": {
    "kernelspec": {
      "display_name": "Python 3",
      "language": "python",
      "name": "python3"
    },
    "language_info": {
      "codemirror_mode": {
        "name": "ipython",
        "version": 3
      },
      "file_extension": ".py",
      "mimetype": "text/x-python",
      "name": "python",
      "nbconvert_exporter": "python",
      "pygments_lexer": "ipython3",
      "version": "3.6.6"
    },
    "colab": {
      "name": "5.2-Numpy2D.ipynb",
      "provenance": []
    }
  },
  "cells": [
    {
      "cell_type": "markdown",
      "metadata": {
        "id": "By51DUNS2kD4"
      },
      "source": [
        "<p><strong>Welcome!</strong> This notebook will teach you about using <code>Numpy</code> in the Python Programming Language. By the end of this lab, you'll know what <code>Numpy</code> is and the <code>Numpy</code> operations.</p>"
      ]
    },
    {
      "cell_type": "markdown",
      "metadata": {
        "id": "_fEwA7ol2kD5"
      },
      "source": [
        "<h2>Table of Contents</h2>\n",
        "<div class=\"alert alert-block alert-info\" style=\"margin-top: 20px\">\n",
        "    <ul>\n",
        "        <li><a href=\"create\">Create a 2D Numpy Array</a></li>\n",
        "        <li><a href=\"access\">Accessing different elements of a Numpy Array</a></li>\n",
        "        <li><a href=\"op\">Basic Operations</a></li>\n",
        "    </ul>\n",
        "    <p>\n",
        "        Estimated time needed: <strong>20 min</strong>\n",
        "    </p>\n",
        "</div>\n",
        "\n",
        "<hr>"
      ]
    },
    {
      "cell_type": "markdown",
      "metadata": {
        "id": "gXaK1tOn2kD6"
      },
      "source": [
        "<h2 id=\"create\">Create a 2D Numpy Array</h2>"
      ]
    },
    {
      "cell_type": "code",
      "metadata": {
        "collapsed": true,
        "id": "tO6RyXmp2kD6"
      },
      "source": [
        "# Import the libraries\n",
        "\n",
        "import numpy as np \n",
        "import matplotlib.pyplot as plt"
      ],
      "execution_count": null,
      "outputs": []
    },
    {
      "cell_type": "markdown",
      "metadata": {
        "id": "msVDHgXh2kD8"
      },
      "source": [
        "Consider the list <code>a</code>, the list contains three nested lists **each of equal size**. "
      ]
    },
    {
      "cell_type": "code",
      "metadata": {
        "id": "pYRP0cg72kD9"
      },
      "source": [
        "# Create a list\n",
        "\n",
        "a = [[11, 12, 13], [21, 22, 23], [31, 32, 33]]\n",
        "a"
      ],
      "execution_count": null,
      "outputs": []
    },
    {
      "cell_type": "markdown",
      "metadata": {
        "id": "fK_SFuOe2kD9"
      },
      "source": [
        "We can cast the list to a Numpy Array as follow"
      ]
    },
    {
      "cell_type": "code",
      "metadata": {
        "id": "vaAWSsj82kD-"
      },
      "source": [
        "# Convert list to Numpy Array\n",
        "# Every element is the same type\n",
        "\n",
        "A = np.array(a)\n",
        "A"
      ],
      "execution_count": null,
      "outputs": []
    },
    {
      "cell_type": "markdown",
      "metadata": {
        "id": "q0i7C7-h2kD_"
      },
      "source": [
        "We can use the attribute <code>ndim</code> to obtain the number of axes or dimensions referred to as the rank. "
      ]
    },
    {
      "cell_type": "code",
      "metadata": {
        "id": "LYD6KPxy2kD_"
      },
      "source": [
        "# Show the numpy array dimensions\n",
        "\n",
        "A.ndim"
      ],
      "execution_count": null,
      "outputs": []
    },
    {
      "cell_type": "markdown",
      "metadata": {
        "id": "g2kD9v5J2kEA"
      },
      "source": [
        "Attribute <code>shape</code> returns a tuple corresponding to the size or number of each dimension."
      ]
    },
    {
      "cell_type": "code",
      "metadata": {
        "id": "L-i4Sanj2kEA"
      },
      "source": [
        "# Show the numpy array shape\n",
        "\n",
        "A.shape"
      ],
      "execution_count": null,
      "outputs": []
    },
    {
      "cell_type": "markdown",
      "metadata": {
        "id": "CG5TOrde2kEB"
      },
      "source": [
        "The total number of elements in the array is given by the attribute <code>size</code>."
      ]
    },
    {
      "cell_type": "code",
      "metadata": {
        "id": "yVyqJXQV2kEC"
      },
      "source": [
        "# Show the numpy array size\n",
        "\n",
        "A.size"
      ],
      "execution_count": null,
      "outputs": []
    },
    {
      "cell_type": "markdown",
      "metadata": {
        "id": "9Cjwc8jm2kEC"
      },
      "source": [
        "<hr>"
      ]
    },
    {
      "cell_type": "markdown",
      "metadata": {
        "id": "jKb9K4kW2kED"
      },
      "source": [
        "<h2 id=\"access\">Accessing different elements of a Numpy Array</h2>"
      ]
    },
    {
      "cell_type": "markdown",
      "metadata": {
        "id": "QS4eSIXC2kED"
      },
      "source": [
        "We can use rectangular brackets to access the different elements of the array. The correspondence between the rectangular brackets and the list and the rectangular representation is shown in the following figure for a 3x3 array:  "
      ]
    },
    {
      "cell_type": "markdown",
      "metadata": {
        "id": "ogAlbAaG2kEE"
      },
      "source": [
        "<img src=\"https://s3-api.us-geo.objectstorage.softlayer.net/cf-courses-data/CognitiveClass/PY0101EN/Chapter%205/Images/NumTwoEg.png\" width=\"500\" />"
      ]
    },
    {
      "cell_type": "markdown",
      "metadata": {
        "id": "VXY94RuW2kEF"
      },
      "source": [
        "We can access the 2nd-row 3rd column as shown in the following figure:"
      ]
    },
    {
      "cell_type": "markdown",
      "metadata": {
        "id": "cLnuanBd2kEG"
      },
      "source": [
        "<img src=\"https://s3-api.us-geo.objectstorage.softlayer.net/cf-courses-data/CognitiveClass/PY0101EN/Chapter%205/Images/NumTwoFT.png\" width=\"400\" />"
      ]
    },
    {
      "cell_type": "markdown",
      "metadata": {
        "id": "09FkqD2Y2kEH"
      },
      "source": [
        " We simply use the square brackets and the indices corresponding to the element we would like:"
      ]
    },
    {
      "cell_type": "code",
      "metadata": {
        "id": "BRr2JWRF2kEH"
      },
      "source": [
        "# Access the element on the second row and third column\n",
        "\n",
        "A[1, 2]"
      ],
      "execution_count": null,
      "outputs": []
    },
    {
      "cell_type": "markdown",
      "metadata": {
        "id": "XyjQ1xaF2kEI"
      },
      "source": [
        " We can also use the following notation to obtain the elements: "
      ]
    },
    {
      "cell_type": "code",
      "metadata": {
        "id": "sx3S8udJ2kEI"
      },
      "source": [
        "# Access the element on the second row and third column\n",
        "\n",
        "A[1][2]"
      ],
      "execution_count": null,
      "outputs": []
    },
    {
      "cell_type": "markdown",
      "metadata": {
        "id": "5CQwvKPJ2kEJ"
      },
      "source": [
        " Consider the elements shown in the following figure "
      ]
    },
    {
      "cell_type": "markdown",
      "metadata": {
        "id": "PLwjndu02kEJ"
      },
      "source": [
        "<img src=\"https://s3-api.us-geo.objectstorage.softlayer.net/cf-courses-data/CognitiveClass/PY0101EN/Chapter%205/Images/NumTwoFF.png\" width=\"400\" />"
      ]
    },
    {
      "cell_type": "markdown",
      "metadata": {
        "id": "ZmcyBRiz2kEK"
      },
      "source": [
        "We can access the element as follows "
      ]
    },
    {
      "cell_type": "code",
      "metadata": {
        "id": "yu7Cfv7r2kEK"
      },
      "source": [
        "# Access the element on the first row and first column\n",
        "\n",
        "A[0][0]"
      ],
      "execution_count": null,
      "outputs": []
    },
    {
      "cell_type": "markdown",
      "metadata": {
        "id": "eMMpkIRP2kEL"
      },
      "source": [
        "We can also use slicing in numpy arrays. Consider the following figure. We would like to obtain the first two columns in the first row"
      ]
    },
    {
      "cell_type": "markdown",
      "metadata": {
        "id": "QCkhC-hI2kEL"
      },
      "source": [
        "<img src=\"https://s3-api.us-geo.objectstorage.softlayer.net/cf-courses-data/CognitiveClass/PY0101EN/Chapter%205/Images/NumTwoFSF.png\" width=\"400\" />"
      ]
    },
    {
      "cell_type": "markdown",
      "metadata": {
        "id": "LlyJHWLq2kEQ"
      },
      "source": [
        " This can be done with the following syntax "
      ]
    },
    {
      "cell_type": "code",
      "metadata": {
        "id": "0K0jsuiY2kER"
      },
      "source": [
        "# Access the element on the first row and first and second columns\n",
        "\n",
        "A[0][0:2]"
      ],
      "execution_count": null,
      "outputs": []
    },
    {
      "cell_type": "markdown",
      "metadata": {
        "id": "j5sHEE1w2kER"
      },
      "source": [
        "Similarly, we can obtain the first two rows of the 3rd column as follows:"
      ]
    },
    {
      "cell_type": "code",
      "metadata": {
        "id": "9OlKrTAO2kES"
      },
      "source": [
        "# Access the element on the first and second rows and third column\n",
        "\n",
        "A[0:2, 2]"
      ],
      "execution_count": null,
      "outputs": []
    },
    {
      "cell_type": "markdown",
      "metadata": {
        "id": "8tV3PPMY2kES"
      },
      "source": [
        "Corresponding to the following figure: "
      ]
    },
    {
      "cell_type": "markdown",
      "metadata": {
        "id": "LBuplGVE2kET"
      },
      "source": [
        "<img src=\"https://s3-api.us-geo.objectstorage.softlayer.net/cf-courses-data/CognitiveClass/PY0101EN/Chapter%205/Images/NumTwoTST.png\" width=\"400\" />"
      ]
    },
    {
      "cell_type": "markdown",
      "metadata": {
        "id": "yKtPGu7W2kET"
      },
      "source": [
        "<hr>"
      ]
    },
    {
      "cell_type": "markdown",
      "metadata": {
        "id": "O_g12Xnr2kEU"
      },
      "source": [
        "<h2 id=\"op\">Basic Operations</h2>"
      ]
    },
    {
      "cell_type": "markdown",
      "metadata": {
        "id": "Xc26Y_In2kEV"
      },
      "source": [
        "We can also add arrays. The process is identical to matrix addition. Matrix addition of <code>X</code> and <code>Y</code> is shown in the following figure:"
      ]
    },
    {
      "cell_type": "markdown",
      "metadata": {
        "id": "_M22XkIs2kEV"
      },
      "source": [
        "<img src=\"https://s3-api.us-geo.objectstorage.softlayer.net/cf-courses-data/CognitiveClass/PY0101EN/Chapter%205/Images/NumTwoAdd.png\" width=\"500\" />"
      ]
    },
    {
      "cell_type": "markdown",
      "metadata": {
        "id": "TAQ3tVfE2kEW"
      },
      "source": [
        "The numpy array is given by <code>X</code> and <code>Y</code>"
      ]
    },
    {
      "cell_type": "code",
      "metadata": {
        "id": "3qT5edeL2kEW"
      },
      "source": [
        "# Create a numpy array X\n",
        "\n",
        "X = np.array([[1, 0], [0, 1]]) \n",
        "X"
      ],
      "execution_count": null,
      "outputs": []
    },
    {
      "cell_type": "code",
      "metadata": {
        "id": "sq_iOk8L2kEX"
      },
      "source": [
        "# Create a numpy array Y\n",
        "\n",
        "Y = np.array([[2, 1], [1, 2]]) \n",
        "Y"
      ],
      "execution_count": null,
      "outputs": []
    },
    {
      "cell_type": "markdown",
      "metadata": {
        "id": "N6EJYN_62kEX"
      },
      "source": [
        " We can add the numpy arrays as follows."
      ]
    },
    {
      "cell_type": "code",
      "metadata": {
        "id": "-vrRVf2r2kEY"
      },
      "source": [
        "# Add X and Y\n",
        "\n",
        "Z = X + Y\n",
        "Z"
      ],
      "execution_count": null,
      "outputs": []
    },
    {
      "cell_type": "markdown",
      "metadata": {
        "id": "nFBpTKr_2kEY"
      },
      "source": [
        "Multiplying a numpy array by a scaler is identical to multiplying a matrix by a scaler. If we multiply the matrix <code>Y</code> by the scaler 2, we simply multiply every element in the matrix by 2 as shown in the figure."
      ]
    },
    {
      "cell_type": "markdown",
      "metadata": {
        "id": "w6Jj0mlK2kEZ"
      },
      "source": [
        "<img src=\"https://s3-api.us-geo.objectstorage.softlayer.net/cf-courses-data/CognitiveClass/PY0101EN/Chapter%205/Images/NumTwoDb.png\" width=\"500\" />"
      ]
    },
    {
      "cell_type": "markdown",
      "metadata": {
        "id": "Wl5kXNbQ2kEZ"
      },
      "source": [
        "We can perform the same operation in numpy as follows "
      ]
    },
    {
      "cell_type": "code",
      "metadata": {
        "id": "Cf4Os4y62kEa"
      },
      "source": [
        "# Create a numpy array Y\n",
        "\n",
        "Y = np.array([[2, 1], [1, 2]]) \n",
        "Y"
      ],
      "execution_count": null,
      "outputs": []
    },
    {
      "cell_type": "code",
      "metadata": {
        "id": "sh23TXem2kEa"
      },
      "source": [
        "# Multiply Y with 2\n",
        "\n",
        "Z = 2 * Y\n",
        "Z"
      ],
      "execution_count": null,
      "outputs": []
    },
    {
      "cell_type": "markdown",
      "metadata": {
        "id": "Tppfomgp2kEb"
      },
      "source": [
        "Multiplication of two arrays corresponds to an element-wise product or Hadamard product. Consider matrix <code>X</code> and <code>Y</code>. The Hadamard product corresponds to multiplying each of the elements in the same position, i.e. multiplying elements contained in the same color boxes together. The result is a new matrix that is the same size as matrix <code>Y</code> or <code>X</code>, as shown in the following figure."
      ]
    },
    {
      "cell_type": "markdown",
      "metadata": {
        "id": "uRxeuRsc2kEb"
      },
      "source": [
        "<img src=\"https://s3-api.us-geo.objectstorage.softlayer.net/cf-courses-data/CognitiveClass/PY0101EN/Chapter%205/Images/NumTwoMul.png\" width=\"500\" />"
      ]
    },
    {
      "cell_type": "markdown",
      "metadata": {
        "id": "CbulMO3Q2kEc"
      },
      "source": [
        "We can perform element-wise product of the array <code>X</code> and <code>Y</code> as follows:"
      ]
    },
    {
      "cell_type": "code",
      "metadata": {
        "id": "wXv5QcmD2kEd"
      },
      "source": [
        "# Create a numpy array Y\n",
        "\n",
        "Y = np.array([[2, 1], [1, 2]]) \n",
        "Y"
      ],
      "execution_count": null,
      "outputs": []
    },
    {
      "cell_type": "code",
      "metadata": {
        "id": "qPUvD2sp2kEd"
      },
      "source": [
        "# Create a numpy array X\n",
        "\n",
        "X = np.array([[1, 0], [0, 1]]) \n",
        "X"
      ],
      "execution_count": null,
      "outputs": []
    },
    {
      "cell_type": "code",
      "metadata": {
        "id": "IzXgrs_62kEe"
      },
      "source": [
        "# Multiply X with Y\n",
        "\n",
        "Z = X * Y\n",
        "Z"
      ],
      "execution_count": null,
      "outputs": []
    },
    {
      "cell_type": "markdown",
      "metadata": {
        "id": "wx1pbMxZ2kEe"
      },
      "source": [
        "We can also perform matrix multiplication with the numpy arrays <code>A</code> and <code>B</code> as follows:"
      ]
    },
    {
      "cell_type": "markdown",
      "metadata": {
        "id": "8kfe3Z5z2kEf"
      },
      "source": [
        "First, we define matrix <code>A</code> and <code>B</code>:"
      ]
    },
    {
      "cell_type": "code",
      "metadata": {
        "id": "tzy3xLr-2kEf"
      },
      "source": [
        "# Create a matrix A\n",
        "\n",
        "A = np.array([[0, 1, 1], [1, 0, 1]])\n",
        "A"
      ],
      "execution_count": null,
      "outputs": []
    },
    {
      "cell_type": "code",
      "metadata": {
        "id": "yze5vD7E2kEg"
      },
      "source": [
        "# Create a matrix B\n",
        "\n",
        "B = np.array([[1, 1], [1, 1], [-1, 1]])\n",
        "B"
      ],
      "execution_count": null,
      "outputs": []
    },
    {
      "cell_type": "markdown",
      "metadata": {
        "id": "WcL-Wv052kEg"
      },
      "source": [
        "We use the numpy function <code>dot</code> to multiply the arrays together."
      ]
    },
    {
      "cell_type": "code",
      "metadata": {
        "id": "sTFm7ogH2kEh"
      },
      "source": [
        "# Calculate the dot product\n",
        "\n",
        "Z = np.dot(A,B)\n",
        "Z"
      ],
      "execution_count": null,
      "outputs": []
    },
    {
      "cell_type": "code",
      "metadata": {
        "id": "0VXF9tBN2kEh"
      },
      "source": [
        "# Calculate the sine of Z\n",
        "\n",
        "np.sin(Z)"
      ],
      "execution_count": null,
      "outputs": []
    },
    {
      "cell_type": "markdown",
      "metadata": {
        "id": "Go7QxqBo2kEi"
      },
      "source": [
        "We use the numpy attribute <code>T</code> to calculate the transposed matrix"
      ]
    },
    {
      "cell_type": "code",
      "metadata": {
        "id": "9A17plCG2kEi"
      },
      "source": [
        "# Create a matrix C\n",
        "\n",
        "C = np.array([[1,1],[2,2],[3,3]])\n",
        "C"
      ],
      "execution_count": null,
      "outputs": []
    },
    {
      "cell_type": "code",
      "metadata": {
        "id": "TLgYSnG42kEj"
      },
      "source": [
        "# Get the transposed of C\n",
        "\n",
        "C.T"
      ],
      "execution_count": null,
      "outputs": []
    },
    {
      "cell_type": "markdown",
      "metadata": {
        "id": "_8p1TSbP2kEn"
      },
      "source": [
        "<p>Copyright &copy; 2018 IBM Developer Skills Network. This notebook and its source code are released under the terms of the <a href=\"https://cognitiveclass.ai/mit-license/\">MIT License</a>.</p>"
      ]
    }
  ]
}