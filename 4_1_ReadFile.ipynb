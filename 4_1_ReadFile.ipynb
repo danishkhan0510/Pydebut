{
  "nbformat": 4,
  "nbformat_minor": 0,
  "metadata": {
    "kernelspec": {
      "display_name": "Python 3",
      "language": "python",
      "name": "python3"
    },
    "language_info": {
      "codemirror_mode": {
        "name": "ipython",
        "version": 3
      },
      "file_extension": ".py",
      "mimetype": "text/x-python",
      "name": "python",
      "nbconvert_exporter": "python",
      "pygments_lexer": "ipython3",
      "version": "3.7.6"
    },
    "colab": {
      "name": "4.1-ReadFile.ipynb",
      "provenance": []
    }
  },
  "cells": [
    {
      "cell_type": "markdown",
      "metadata": {
        "id": "8bkMAztb1LBS"
      },
      "source": [
        "<h1>Reading Files Python</h1>"
      ]
    },
    {
      "cell_type": "markdown",
      "metadata": {
        "id": "BvQBS6nx1LBS"
      },
      "source": [
        "<p><strong>Welcome!</strong> This notebook will teach you about reading the text file in the Python Programming Language. By the end of this lab, you'll know how to read text files.</p>"
      ]
    },
    {
      "cell_type": "markdown",
      "metadata": {
        "id": "5EB4HB6g1LBT"
      },
      "source": [
        "<h2>Table of Contents</h2>\n",
        "<div class=\"alert alert-block alert-info\" style=\"margin-top: 20px\">\n",
        "    <ul>\n",
        "        <li><a href=\"download\">Download Data</a></li>\n",
        "        <li><a href=\"read\">Reading Text Files</a></li>\n",
        "        <li><a href=\"better\">A Better Way to Open a File</a></li>\n",
        "    </ul>\n",
        "    <p>\n",
        "        Estimated time needed: <strong>40 min</strong>\n",
        "    </p>\n",
        "</div>\n",
        "\n",
        "<hr>"
      ]
    },
    {
      "cell_type": "markdown",
      "metadata": {
        "id": "7HMNkkoA1LBU"
      },
      "source": [
        "<h2 id=\"download\">Download Data</h2>"
      ]
    },
    {
      "cell_type": "code",
      "metadata": {
        "id": "QDIVEszk1LBV",
        "outputId": "b9ecfb48-43dc-402d-ebaf-39255d656293"
      },
      "source": [
        "# Download Example file\n",
        "\n",
        "!wget Example1.txt https://s3-api.us-geo.objectstorage.softlayer.net/cf-courses-data/CognitiveClass/PY0101EN/labs/example1.txt"
      ],
      "execution_count": null,
      "outputs": [
        {
          "output_type": "stream",
          "text": [
            "--2020-10-12 12:56:25--  http://example1.txt/\n",
            "Resolving example1.txt (example1.txt)... failed: Name or service not known.\n",
            "wget: unable to resolve host address ‘example1.txt’\n",
            "--2020-10-12 12:56:25--  https://s3-api.us-geo.objectstorage.softlayer.net/cf-courses-data/CognitiveClass/PY0101EN/labs/example1.txt\n",
            "Resolving s3-api.us-geo.objectstorage.softlayer.net (s3-api.us-geo.objectstorage.softlayer.net)... 67.228.254.196\n",
            "Connecting to s3-api.us-geo.objectstorage.softlayer.net (s3-api.us-geo.objectstorage.softlayer.net)|67.228.254.196|:443... connected.\n",
            "HTTP request sent, awaiting response... 200 OK\n",
            "Length: 45 [text/plain]\n",
            "Saving to: ‘example1.txt’\n",
            "\n",
            "example1.txt        100%[===================>]      45  --.-KB/s    in 0s      \n",
            "\n",
            "2020-10-12 12:56:25 (5.53 MB/s) - ‘example1.txt’ saved [45/45]\n",
            "\n",
            "FINISHED --2020-10-12 12:56:25--\n",
            "Total wall clock time: 0.4s\n",
            "Downloaded: 1 files, 45 in 0s (5.53 MB/s)\n"
          ],
          "name": "stdout"
        }
      ]
    },
    {
      "cell_type": "markdown",
      "metadata": {
        "id": "HD7PFGnV1LBY"
      },
      "source": [
        "<hr>"
      ]
    },
    {
      "cell_type": "markdown",
      "metadata": {
        "id": "yrxgQ_Sx1LBZ"
      },
      "source": [
        "<h2 id=\"read\">Reading Text Files</h2>"
      ]
    },
    {
      "cell_type": "markdown",
      "metadata": {
        "id": "uWF3XPGB1LBa"
      },
      "source": [
        "One way to read or write a file in Python is to use the built-in <code>open</code> function. The <code>open</code> function provides a <b>File object</b> that contains the methods and attributes you need in order to read, save, and manipulate the file. In this notebook, we will only cover <b>.txt</b> files. The first parameter you need is the file path and the file name. An example is shown as follow:"
      ]
    },
    {
      "cell_type": "markdown",
      "metadata": {
        "id": "qo5bvI5F1LBb"
      },
      "source": [
        "<img src=\"https://s3-api.us-geo.objectstorage.softlayer.net/cf-courses-data/CognitiveClass/PY0101EN/Chapter%204/Images/ReadOpen.png\" width=\"500\" />"
      ]
    },
    {
      "cell_type": "markdown",
      "metadata": {
        "id": "u56Q0mZP1LBb"
      },
      "source": [
        " The mode argument is optional and the default value is <b>r</b>. In this notebook we only cover two modes: \n",
        "<ul>\n",
        "    <li><b>r</b> Read mode for reading files </li>\n",
        "    <li><b>w</b> Write mode for writing files</li>\n",
        "</ul>"
      ]
    },
    {
      "cell_type": "markdown",
      "metadata": {
        "id": "ajcZY0ao1LBd"
      },
      "source": [
        "For the next example, we will use the text file <b>Example1.txt</b>. The file is shown as follow:"
      ]
    },
    {
      "cell_type": "markdown",
      "metadata": {
        "id": "L8LouES41LBd"
      },
      "source": [
        "<img src=\"https://s3-api.us-geo.objectstorage.softlayer.net/cf-courses-data/CognitiveClass/PY0101EN/Chapter%204/Images/ReadFile.png\" width=\"200\" />"
      ]
    },
    {
      "cell_type": "markdown",
      "metadata": {
        "id": "JH8dCe6v1LBe"
      },
      "source": [
        " We read the file: "
      ]
    },
    {
      "cell_type": "code",
      "metadata": {
        "id": "aiCNScJD1LBe"
      },
      "source": [
        "# Read the Example1.txt\n",
        "\n",
        "example1 = \"example1.txt\"\n",
        "file1 = open(example1, \"r\")"
      ],
      "execution_count": null,
      "outputs": []
    },
    {
      "cell_type": "markdown",
      "metadata": {
        "id": "ieGJb4Bb1LBg"
      },
      "source": [
        " We can view the attributes of the file."
      ]
    },
    {
      "cell_type": "markdown",
      "metadata": {
        "id": "hIAVmcP71LBg"
      },
      "source": [
        "The name of the file:"
      ]
    },
    {
      "cell_type": "code",
      "metadata": {
        "id": "-mj972_a1LBh",
        "outputId": "aedbe9e5-d698-48e9-980d-1a5f9e98482c"
      },
      "source": [
        "# Print the path of file\n",
        "\n",
        "file1.name"
      ],
      "execution_count": null,
      "outputs": [
        {
          "output_type": "execute_result",
          "data": {
            "text/plain": [
              "'example1.txt'"
            ]
          },
          "metadata": {
            "tags": []
          },
          "execution_count": 4
        }
      ]
    },
    {
      "cell_type": "markdown",
      "metadata": {
        "id": "srTkKy751LBi"
      },
      "source": [
        " The mode the file object is in:"
      ]
    },
    {
      "cell_type": "code",
      "metadata": {
        "id": "IgmkDpEs1LBj",
        "outputId": "89126fea-c6be-4525-93ce-09094c0acec2"
      },
      "source": [
        "# Print the mode of file, either 'r' or 'w'\n",
        "\n",
        "file1.mode"
      ],
      "execution_count": null,
      "outputs": [
        {
          "output_type": "execute_result",
          "data": {
            "text/plain": [
              "'r'"
            ]
          },
          "metadata": {
            "tags": []
          },
          "execution_count": 5
        }
      ]
    },
    {
      "cell_type": "markdown",
      "metadata": {
        "id": "ID5JKzW11LBk"
      },
      "source": [
        "We can read the file and assign it to a variable :"
      ]
    },
    {
      "cell_type": "code",
      "metadata": {
        "id": "L3skk50x1LBk",
        "outputId": "676e273f-b592-4d81-fa8e-d06a7dbf597d"
      },
      "source": [
        "# Read the file\n",
        "\n",
        "FileContent = file1.read()\n",
        "FileContent"
      ],
      "execution_count": null,
      "outputs": [
        {
          "output_type": "execute_result",
          "data": {
            "text/plain": [
              "'This is line 1 \\nThis is line 2\\nThis is line 3'"
            ]
          },
          "metadata": {
            "tags": []
          },
          "execution_count": 6
        }
      ]
    },
    {
      "cell_type": "markdown",
      "metadata": {
        "id": "uP6mkgyZ1LBl"
      },
      "source": [
        "The <b>/n</b> means that there is a new line. "
      ]
    },
    {
      "cell_type": "markdown",
      "metadata": {
        "id": "j8FoZngt1LBl"
      },
      "source": [
        "We can print the file: "
      ]
    },
    {
      "cell_type": "code",
      "metadata": {
        "id": "sUTrrMG41LBm",
        "outputId": "12391fbf-d2d9-4708-81cb-4e1289ab505a"
      },
      "source": [
        "# Print the file with '\\n' as a new line\n",
        "\n",
        "print(FileContent)"
      ],
      "execution_count": null,
      "outputs": [
        {
          "output_type": "stream",
          "text": [
            "This is line 1 \n",
            "This is line 2\n",
            "This is line 3\n"
          ],
          "name": "stdout"
        }
      ]
    },
    {
      "cell_type": "markdown",
      "metadata": {
        "id": "b_Ve6VIT1LBn"
      },
      "source": [
        "The file is of type string:"
      ]
    },
    {
      "cell_type": "code",
      "metadata": {
        "id": "1P7JHlQC1LBn",
        "outputId": "4b77e591-b6f3-4270-83ac-ec7e6f02a5cb"
      },
      "source": [
        "# Type of file content\n",
        "\n",
        "type(FileContent)"
      ],
      "execution_count": null,
      "outputs": [
        {
          "output_type": "execute_result",
          "data": {
            "text/plain": [
              "str"
            ]
          },
          "metadata": {
            "tags": []
          },
          "execution_count": 9
        }
      ]
    },
    {
      "cell_type": "markdown",
      "metadata": {
        "id": "VFZmHa0i1LBo"
      },
      "source": [
        " We must close the file object:"
      ]
    },
    {
      "cell_type": "code",
      "metadata": {
        "id": "QKWlkPjn1LBo"
      },
      "source": [
        "# Close file after finish\n",
        "\n",
        "file1.close()"
      ],
      "execution_count": null,
      "outputs": []
    },
    {
      "cell_type": "markdown",
      "metadata": {
        "id": "APZlGR-11LBp"
      },
      "source": [
        "<hr>"
      ]
    },
    {
      "cell_type": "markdown",
      "metadata": {
        "id": "1CacMaxl1LBp"
      },
      "source": [
        "<h2 id=\"better\">A Better Way to Open a File</h2>"
      ]
    },
    {
      "cell_type": "markdown",
      "metadata": {
        "id": "1tCXfUiv1LBq"
      },
      "source": [
        "Using the <code>with</code> statement is better practice, it automatically closes the file even if the code encounters an exception. The code will run everything in the indent block then close the file object. "
      ]
    },
    {
      "cell_type": "code",
      "metadata": {
        "id": "RSW_2gt21LBq",
        "outputId": "de1ce5d4-6d6e-4c5e-d065-14aa8e196f3d"
      },
      "source": [
        "# Open file using with\n",
        "\n",
        "with open(example1, \"r\") as file1:\n",
        "    FileContent = file1.read()\n",
        "    print(FileContent)"
      ],
      "execution_count": null,
      "outputs": [
        {
          "output_type": "stream",
          "text": [
            "This is line 1 \n",
            "This is line 2\n",
            "This is line 3\n"
          ],
          "name": "stdout"
        }
      ]
    },
    {
      "cell_type": "markdown",
      "metadata": {
        "id": "MesC6tmM1LBr"
      },
      "source": [
        "The file object is closed, you can verify it by running the following cell:  "
      ]
    },
    {
      "cell_type": "code",
      "metadata": {
        "id": "atFbK-941LBs",
        "outputId": "c8f2e79a-024c-45d1-ca45-cf6c6070e63b"
      },
      "source": [
        "# Verify if the file is closed\n",
        "\n",
        "file1.closed"
      ],
      "execution_count": null,
      "outputs": [
        {
          "output_type": "execute_result",
          "data": {
            "text/plain": [
              "True"
            ]
          },
          "metadata": {
            "tags": []
          },
          "execution_count": 12
        }
      ]
    },
    {
      "cell_type": "markdown",
      "metadata": {
        "id": "uekR68ew1LBs"
      },
      "source": [
        " We can see the info in the file:"
      ]
    },
    {
      "cell_type": "code",
      "metadata": {
        "id": "sjVKSubM1LBt",
        "outputId": "ce2ab153-f036-4672-c5a4-c21128cf8eb9"
      },
      "source": [
        "# See the content of file\n",
        "\n",
        "print(FileContent)"
      ],
      "execution_count": null,
      "outputs": [
        {
          "output_type": "stream",
          "text": [
            "This is line 1 \n",
            "This is line 2\n",
            "This is line 3\n"
          ],
          "name": "stdout"
        }
      ]
    },
    {
      "cell_type": "markdown",
      "metadata": {
        "id": "MokWVsvP1LBt"
      },
      "source": [
        "The syntax is a little confusing as the file object is after the <code>as</code> statement. We also don’t explicitly close the file. Therefore we summarize the steps in a figure:"
      ]
    },
    {
      "cell_type": "markdown",
      "metadata": {
        "id": "lkBVLJf01LBu"
      },
      "source": [
        "<img src=\"https://s3-api.us-geo.objectstorage.softlayer.net/cf-courses-data/CognitiveClass/PY0101EN/Chapter%204/Images/ReadWith.png\" width=\"500\" />"
      ]
    },
    {
      "cell_type": "markdown",
      "metadata": {
        "id": "2H5XKLUb1LBu"
      },
      "source": [
        "We don’t have to read the entire file, for example, we can read the first 4 characters by entering three as a parameter to the method **.read()**:\n"
      ]
    },
    {
      "cell_type": "code",
      "metadata": {
        "id": "_azpma6h1LBv",
        "outputId": "70bd56cd-7b14-46c8-b187-36da2a144a76"
      },
      "source": [
        "# Read first four characters\n",
        "\n",
        "with open(example1, \"r\") as file1:\n",
        "    print(file1.read(4))"
      ],
      "execution_count": null,
      "outputs": [
        {
          "output_type": "stream",
          "text": [
            "This\n"
          ],
          "name": "stdout"
        }
      ]
    },
    {
      "cell_type": "markdown",
      "metadata": {
        "id": "spMvOz7J1LBw"
      },
      "source": [
        "Once the method <code>.read(4)</code> is called the first 4 characters are called. If we call the method again, the next 4 characters are called. The output for the following cell will demonstrate the process for different inputs to the method <code>read()</code>:"
      ]
    },
    {
      "cell_type": "code",
      "metadata": {
        "id": "HKhl49nU1LBx",
        "outputId": "899b5499-f7a9-4129-f9d4-78954de718c1"
      },
      "source": [
        "# Read certain amount of characters\n",
        "\n",
        "with open(example1, \"r\") as file1:\n",
        "    print(file1.read(4))\n",
        "    print(file1.read(4))\n",
        "    print(file1.read(7))\n",
        "    print(file1.read(15))"
      ],
      "execution_count": null,
      "outputs": [
        {
          "output_type": "stream",
          "text": [
            "This\n",
            " is \n",
            "line 1 \n",
            "\n",
            "This is line 2\n"
          ],
          "name": "stdout"
        }
      ]
    },
    {
      "cell_type": "markdown",
      "metadata": {
        "id": "ZlDZlIM91LBy"
      },
      "source": [
        "The process is illustrated in the below figure, and each color represents the part of the file read after the method <code>read()</code> is called:"
      ]
    },
    {
      "cell_type": "markdown",
      "metadata": {
        "id": "PqClARHm1LBy"
      },
      "source": [
        "<img src=\"https://s3-api.us-geo.objectstorage.softlayer.net/cf-courses-data/CognitiveClass/PY0101EN/Chapter%204/Images/ReadChar.png\" width=\"500\" />"
      ]
    },
    {
      "cell_type": "markdown",
      "metadata": {
        "id": "KrUgjKCV1LBz"
      },
      "source": [
        " Here is an example using the same file, but instead we read 16, 5, and then 9 characters at a time: "
      ]
    },
    {
      "cell_type": "code",
      "metadata": {
        "id": "tfhmy8Vl1LBz",
        "outputId": "311eff34-cbad-4542-c545-0cb421387a5e"
      },
      "source": [
        "# Read certain amount of characters\n",
        "\n",
        "with open(example1, \"r\") as file1:\n",
        "    print(file1.read(16))\n",
        "    print(file1.read(5))\n",
        "    print(file1.read(9))"
      ],
      "execution_count": null,
      "outputs": [
        {
          "output_type": "stream",
          "text": [
            "This is line 1 \n",
            "\n",
            "This \n",
            "is line 2\n"
          ],
          "name": "stdout"
        }
      ]
    },
    {
      "cell_type": "markdown",
      "metadata": {
        "id": "iVy-SWy81LB0"
      },
      "source": [
        "We can also read one line of the file at a time using the method <code>readline()</code>: "
      ]
    },
    {
      "cell_type": "code",
      "metadata": {
        "id": "buAMkvYi1LB1",
        "outputId": "94ecd683-fc54-45f8-9c4c-92c135836c92"
      },
      "source": [
        "# Read one line\n",
        "\n",
        "with open(example1, \"r\") as file1:\n",
        "    print(\"first line: \" + file1.readline())"
      ],
      "execution_count": null,
      "outputs": [
        {
          "output_type": "stream",
          "text": [
            "first line: This is line 1 \n",
            "\n"
          ],
          "name": "stdout"
        }
      ]
    },
    {
      "cell_type": "markdown",
      "metadata": {
        "id": "_ddpy9ob1LB1"
      },
      "source": [
        " We can use a loop to iterate through each line: \n"
      ]
    },
    {
      "cell_type": "code",
      "metadata": {
        "id": "67ajLL9z1LB2",
        "outputId": "c529d22b-eecb-4628-d017-71b75f526224"
      },
      "source": [
        "# Iterate through the lines\n",
        "\n",
        "with open(example1,\"r\") as file1:\n",
        "        i = 0;\n",
        "        for line in file1:\n",
        "            print(\"Iteration\", str(i), \": \", line)\n",
        "            i = i + 1;"
      ],
      "execution_count": null,
      "outputs": [
        {
          "output_type": "stream",
          "text": [
            "Iteration 0 :  This is line 1 \n",
            "\n",
            "Iteration 1 :  This is line 2\n",
            "\n",
            "Iteration 2 :  This is line 3\n"
          ],
          "name": "stdout"
        }
      ]
    },
    {
      "cell_type": "markdown",
      "metadata": {
        "id": "hXezjRgm1LB3"
      },
      "source": [
        "We can use the method <code>readlines()</code> to save the text file to a list: "
      ]
    },
    {
      "cell_type": "code",
      "metadata": {
        "id": "sFFQ46MY1LB3"
      },
      "source": [
        "# Read all lines and save as a list\n",
        "\n",
        "with open(example1, \"r\") as file1:\n",
        "    FileasList = file1.readlines()"
      ],
      "execution_count": null,
      "outputs": []
    },
    {
      "cell_type": "markdown",
      "metadata": {
        "id": "ph1JmqUK1LB4"
      },
      "source": [
        " Each element of the list corresponds to a line of text:"
      ]
    },
    {
      "cell_type": "code",
      "metadata": {
        "id": "lAWz1uAZ1LB5",
        "outputId": "d991d730-a336-470b-c05e-600a983fc8db"
      },
      "source": [
        "# Print the first line\n",
        "\n",
        "FileasList[0]"
      ],
      "execution_count": null,
      "outputs": [
        {
          "output_type": "execute_result",
          "data": {
            "text/plain": [
              "'This is line 1 \\n'"
            ]
          },
          "metadata": {
            "tags": []
          },
          "execution_count": 20
        }
      ]
    },
    {
      "cell_type": "code",
      "metadata": {
        "id": "FPN1vmG_1LB6",
        "outputId": "49861c23-1711-43b3-e2bf-43916b624c0c"
      },
      "source": [
        "# Print the second line\n",
        "\n",
        "FileasList[1]"
      ],
      "execution_count": null,
      "outputs": [
        {
          "output_type": "execute_result",
          "data": {
            "text/plain": [
              "'This is line 2\\n'"
            ]
          },
          "metadata": {
            "tags": []
          },
          "execution_count": 21
        }
      ]
    },
    {
      "cell_type": "code",
      "metadata": {
        "id": "JRwSwcxI1LB7",
        "outputId": "f1aeaf9d-c8cc-441a-a4d6-0dd835234ec4"
      },
      "source": [
        "# Print the third line\n",
        "\n",
        "FileasList[2]"
      ],
      "execution_count": null,
      "outputs": [
        {
          "output_type": "execute_result",
          "data": {
            "text/plain": [
              "'This is line 3'"
            ]
          },
          "metadata": {
            "tags": []
          },
          "execution_count": 22
        }
      ]
    },
    {
      "cell_type": "markdown",
      "metadata": {
        "id": "Ijlh6kou1LB_"
      },
      "source": [
        "<p>Copyright &copy; 2018 IBM Developer Skills Network. This notebook and its source code are released under the terms of the <a href=\"https://cognitiveclass.ai/mit-license/\">MIT License</a>.</p>"
      ]
    }
  ]
}